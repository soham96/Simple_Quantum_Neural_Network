{
 "cells": [
  {
   "cell_type": "markdown",
   "metadata": {},
   "source": [
    "## Can I Run?\n",
    "\n",
    "In this example we will use a quantum computer to solve a classical Machine Learning problem: Given a set of constraints, if there are too many of them, then what is the right combination such that Malai is able to go for a run.\n",
    "\n",
    "For this example, we will take a look at 3 constraints:\n",
    "- Is it raining outside? - If yes, then I can't run\n",
    "- Is it cool outside? - If yes, then I can run\n",
    "- Need to drop son in school? - If yes, then I can't run\n",
    "- Time - I am an avid runner. I will run even if it is raining as long as it is between 5am and 7am"
   ]
  },
  {
   "cell_type": "markdown",
   "metadata": {},
   "source": [
    "Now to Define the different constraints:\n",
    "- If it rains (1), then malai will run only if the time is between 5am and 7am (1)\n",
    "- If it does not rain (0), and the time is not between 5am and 7am (0), he will run only if he does not have to drop his son (0) and if it is cool (1)\n",
    "- Finally, if it does not rain (0), but the time is between 5am and 7am (1), he will run."
   ]
  },
  {
   "cell_type": "code",
   "execution_count": 1,
   "metadata": {},
   "outputs": [],
   "source": [
    "def cir(rain, time, drop, temp):\n",
    "    if rain:\n",
    "        return time\n",
    "    elif not(rain):\n",
    "        if time:\n",
    "            return time\n",
    "        elif not(time) and drop:\n",
    "            return time\n",
    "        elif not(time) and not(drop) and temp:\n",
    "            return temp\n",
    "        else:\n",
    "            return time"
   ]
  },
  {
   "cell_type": "code",
   "execution_count": 2,
   "metadata": {},
   "outputs": [
    {
     "data": {
      "image/png": "[encoded data removed]",
      "text/plain": [
       "<IPython.core.display.Image object>"
      ]
     },
     "execution_count": 2,
     "metadata": {},
     "output_type": "execute_result"
    }
   ],
   "source": [
    "from IPython.display import Image\n",
    "Image(filename='img.png')"
   ]
  },
  {
   "cell_type": "markdown",
   "metadata": {},
   "source": [
    "First we start by importing all the DWave Packages and initialising the DWave solver.\n",
    "We add the constraints that we discussed previously."
   ]
  },
  {
   "cell_type": "code",
   "execution_count": 3,
   "metadata": {},
   "outputs": [],
   "source": [
    "import dwavebinarycsp\n",
    "\n",
    "csp = dwavebinarycsp.ConstraintSatisfactionProblem(dwavebinarycsp.BINARY)\n",
    "\n",
    "#Our constraints in this case are rain, temperature, drop and time.\n",
    "csp.add_constraint(cir, ['rain', 'time', 'drop', 'temp'])"
   ]
  },
  {
   "cell_type": "code",
   "execution_count": 4,
   "metadata": {},
   "outputs": [
    {
     "name": "stdout",
     "output_type": "stream",
     "text": [
      "The BQM is\n"
     ]
    },
    {
     "data": {
      "text/plain": [
       "{('rain', 'drop'): 0.0,\n",
       " ('temp', 'drop'): 0.0,\n",
       " ('temp', 'rain'): 0.0,\n",
       " ('time', 'drop'): -2.6666668,\n",
       " ('time', 'rain'): -2.6666668,\n",
       " ('time', 'temp'): 2.6666668}"
      ]
     },
     "execution_count": 4,
     "metadata": {},
     "output_type": "execute_result"
    }
   ],
   "source": [
    "bqm = dwavebinarycsp.stitch(csp)\n",
    "\n",
    "print('The BQM is')\n",
    "bqm.quadratic"
   ]
  },
  {
   "cell_type": "markdown",
   "metadata": {},
   "source": [
    "Running it on the DWave System"
   ]
  },
  {
   "cell_type": "code",
   "execution_count": 5,
   "metadata": {},
   "outputs": [
    {
     "name": "stdout",
     "output_type": "stream",
     "text": [
      "Total Time Taken to get result: 4.44 sec\n"
     ]
    }
   ],
   "source": [
    "from dwave.system.samplers import DWaveSampler\n",
    "from dwave.system.composites import EmbeddingComposite\n",
    "sampler = EmbeddingComposite(DWaveSampler())\n",
    "\n",
    "import time\n",
    "start_time=time.time()\n",
    "response = sampler.sample(bqm, num_reads=5000)\n",
    "request_time=time.time()-start_time\n",
    "\n",
    "print(f\"Total Time Taken to get result: {round(request_time, 2)} sec\")"
   ]
  },
  {
   "cell_type": "markdown",
   "metadata": {},
   "source": [
    "Getting the Answers"
   ]
  },
  {
   "cell_type": "code",
   "execution_count": 6,
   "metadata": {},
   "outputs": [
    {
     "name": "stdout",
     "output_type": "stream",
     "text": [
      "\n",
      "No. of Low Energy state answers: 5000\n",
      "No. of High Energy State Answers: 0\n"
     ]
    }
   ],
   "source": [
    "# total = 0\n",
    "# for sample, energy, occurrences in response.data(['sample', 'energy', 'num_occurrences']):\n",
    "#     total = total + occurrences\n",
    "#     if energy == min_energy:\n",
    "#         time = 'business hours' if sample['time'] else 'evenings'\n",
    "#         location = 'office' if sample['location'] else 'home'\n",
    "#         length = 'short' if sample['length'] else 'long'\n",
    "#         mandatory = 'mandatory' if sample['mandatory'] else 'optional'\n",
    "#         print(\"{}: During {} at {}, you can schedule a {} meeting that is {}\".format(occurrences, time, location, length, mandatory))\n",
    "#     print(\"Total occurrences: \", total)\n",
    "\n",
    "valid, invalid, data = 0, 0, []\n",
    "for datum in response.data(['sample', 'energy', 'num_occurrences']):\n",
    "    if (csp.check(datum.sample)):\n",
    "        valid = valid+datum.num_occurrences\n",
    "        for i in range(datum.num_occurrences):\n",
    "            data.append((datum.sample, datum.energy, '1'))\n",
    "    else:\n",
    "        invalid = invalid+datum.num_occurrences\n",
    "        for i in range(datum.num_occurrences):\n",
    "            data.append((datum.sample, datum.energy, '0'))\n",
    "print(f\"\\nNo. of Low Energy state answers: {valid}\")\n",
    "print(f\"No. of High Energy State Answers: {invalid}\")"
   ]
  },
  {
   "cell_type": "code",
   "execution_count": 7,
   "metadata": {},
   "outputs": [
    {
     "name": "stdout",
     "output_type": "stream",
     "text": [
      "Neither is it raining, nor is it hot and I don't have to drop my son off at school. I will go for a run. \n",
      " (0, 0, 0, 1) Energy: -1.9999999967268423e-07\n",
      "It is not raining and the time is perfect, I will go for a run. \n",
      " (0, 1, 0, 1) Energy: 0.0\n",
      "Even though it is raining, since the time is fine, I can run. \n",
      " (1, 1, 1, 1) Energy: 0.0\n",
      "It is not raining and the time is perfect, I will go for a run. \n",
      " (0, 1, 0, 0) Energy: 0.0\n",
      "It is not raining and the time is perfect, I will go for a run. \n",
      " (0, 1, 1, 0) Energy: 0.0\n",
      "Even though it is raining, since the time is fine, I can run. \n",
      " (1, 1, 0, 0) Energy: 0.0\n",
      "Even though it is raining, since the time is fine, I can run. \n",
      " (1, 1, 0, 1) Energy: 0.0\n",
      "Even though it is raining, since the time is fine, I can run. \n",
      " (1, 1, 1, 0) Energy: 0.0\n",
      "It is not raining and the time is perfect, I will go for a run. \n",
      " (0, 1, 1, 1) Energy: 0.0\n",
      "\n",
      "Total Real Time Required by Quantum Computer: 10.756096 seconds\n",
      "Average Time Required in Quantum Computer per Iteration: 20.0 microseconds!\n"
     ]
    }
   ],
   "source": [
    "results_dict={}\n",
    "total_time=0\n",
    "qpu_time=0\n",
    "num=0\n",
    "\n",
    "for sample, energy in response.data(['sample', 'energy']):\n",
    "    #import ipdb; ipdb.set_trace()\n",
    "    rain_value=sample['rain']\n",
    "    temp_value=sample['temp']\n",
    "    drop_value=sample['drop']\n",
    "    time_value=sample['time']\n",
    "    #import ipdb; ipdb.set_trace()\n",
    "    if (rain_value, time_value, drop_value, temp_value) not in results_dict:\n",
    "        results_dict[(rain_value, time_value, drop_value, temp_value)] = energy\n",
    "    \n",
    "    total_time=total_time+response.info['timing']['total_real_time']\n",
    "    qpu_time=qpu_time+response.info['timing']['qpu_anneal_time_per_sample']\n",
    "    num=num+1\n",
    "#import ipdb; ipdb.set_trace()\n",
    "for result in results_dict:\n",
    "    if result[0]:\n",
    "        if result[1]:\n",
    "            print(f\"Even though it is raining, since the time is fine, I can run. \\n {result} Energy: {results_dict[result]}\")\n",
    "        else:\n",
    "            print(f\"It's raining, but the time is not right, so I won't run. \\n {result} Energy: {results_dict[result]}\")\n",
    "    elif not(result[0]):\n",
    "        if result[1]:\n",
    "            print(f\"It is not raining and the time is perfect, I will go for a run. \\n {result} Energy: {results_dict[result]}\")\n",
    "        elif not(result[1]) and result[2]:\n",
    "            print(f\"Even though it is not raining, the time is not right and I have to drop my son off at school. I wil not run. \\n {result} Energy: {results_dict[result]}\")\n",
    "        elif not(result[1]) and not(result[2]) and result[3]:\n",
    "            print(f\"Neither is it raining, nor is it hot and I don't have to drop my son off at school. I will go for a run. \\n {result} Energy: {results_dict[result]}\")\n",
    "        elif not(result[1]) and not(result[2]) and not(result[3]):\n",
    "            print(f\"It isn't raining, but it is hot so I won't go for a run. \\n {result} Energy: {results_dict[result]}\")\n",
    "    else:\n",
    "        print(f'Incorrect Result: \\n {result} Energy: {results_dict[result]}')\n",
    "\n",
    "print(f\"\\nTotal Real Time Required by Quantum Computer: {total_time/1000000} seconds\")\n",
    "#print(f\"\\nTime per Iteration: {(total_time/1000000)} milli seconds\")\n",
    "print(f\"Average Time Required in Quantum Computer per Iteration: {qpu_time/num} microseconds!\")"
   ]
  },
  {
   "cell_type": "code",
   "execution_count": null,
   "metadata": {},
   "outputs": [],
   "source": []
  }
 ],
 "metadata": {
  "kernelspec": {
   "display_name": "Python 3",
   "language": "python",
   "name": "python3"
  },
  "language_info": {
   "codemirror_mode": {
    "name": "ipython",
    "version": 3
   },
   "file_extension": ".py",
   "mimetype": "text/x-python",
   "name": "python",
   "nbconvert_exporter": "python",
   "pygments_lexer": "ipython3",
   "version": "3.6.5"
  }
 },
 "nbformat": 4,
 "nbformat_minor": 2
}
